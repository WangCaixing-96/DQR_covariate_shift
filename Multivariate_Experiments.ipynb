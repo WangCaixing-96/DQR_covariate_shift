{
 "cells": [
  {
   "cell_type": "code",
   "execution_count": null,
   "metadata": {},
   "outputs": [],
   "source": [
    "import numpy as np\n",
    "import os\n",
    "import yaml\n",
    "import torch\n",
    "from scipy import stats as st\n",
    "from scipy.stats import t as t_dist, norm, cauchy, laplace\n",
    "from funcs import Scenario2\n",
    "from neural_model import QuantileNetwork"
   ]
  },
  {
   "cell_type": "code",
   "execution_count": null,
   "metadata": {},
   "outputs": [],
   "source": [
    "def load_config(path):\n",
    "    return yaml.load(open(path, 'r'), Loader=yaml.SafeLoader)\n",
    "\n",
    "config = load_config(\"/Users/cxxxx_/Desktop/DeepQuantile_covariate_shift/config.yaml\")\n"
   ]
  },
  {
   "cell_type": "code",
   "execution_count": null,
   "metadata": {},
   "outputs": [],
   "source": [
    "N_trials = 10\n",
    "N_test = 10000\n",
    "sample_sizes = [512,2048]\n",
    "quantiles = np.array([0.05, 0.25, 0.5, 0.75, 0.95])\n",
    "n_tau = 5\n",
    "functions = [Scenario2()]\n",
    "models = [lambda: QuantileNetwork(quantiles=quantiles, config=config)]\n",
    "\n",
    "    # Track the performance results\n",
    "l2_results = np.full((N_trials, len(functions), len(models), len(sample_sizes), len(quantiles)), np.nan)\n",
    "l1_results = np.full((N_trials, len(functions), len(models), len(sample_sizes), len(quantiles)), np.nan)"
   ]
  },
  {
   "cell_type": "code",
   "execution_count": null,
   "metadata": {},
   "outputs": [],
   "source": [
    "alpha=3\n",
    "beta=4\n",
    "alpha_pr=2.5\n",
    "beta_pr=1.5\n",
    "n_tr=1000\n",
    "n_te=1000\n",
    "X_tr=np.random.uniform(0,1,size=(n_tr,3))\n",
    "X_tr[:,0]=np.random.beta(alpha_pr,beta_pr,n_tr)\n",
    "X_te=np.random.uniform(0,1,size=(n_te,3))\n",
    "X_te[:,0]=np.random.beta(alpha,beta,n_te)"
   ]
  },
  {
   "cell_type": "markdown",
   "metadata": {},
   "source": [
    "# Unweighted Estimator"
   ]
  },
  {
   "cell_type": "code",
   "execution_count": null,
   "metadata": {},
   "outputs": [],
   "source": [
    "for trial in range(N_trials):\n",
    "        print(f'Trial {trial+1}')\n",
    "        for scenario, func in enumerate(functions):\n",
    "            print(f'\\tScenario {scenario+1}')\n",
    "            \n",
    "       \n",
    "            X_test = np.random.uniform(0,1,size=(N_test,3))\n",
    "            X_test[:,0] = np.random.beta(alpha,beta,N_test)\n",
    "            y_test = func.sample(X_test)\n",
    "\n",
    "            # Get the ground truth quantiles\n",
    "            y_quantiles = np.array([func.quantile(X_test, q) for q in quantiles]).T\n",
    "            \n",
    "\n",
    "            for nidx, N_train in enumerate(sample_sizes):\n",
    "                print(f'\\t\\tN={N_train}')\n",
    "                \n",
    "                X_train = np.random.uniform(0,1,size=(N_train,3))\n",
    "                X_train[:,0] = np.random.beta(alpha_pr,beta_pr,N_train)\n",
    "                y_train = func.sample(X_train)\n",
    "\n",
    "                for midx, model in enumerate([m() for m in models]):\n",
    "                    print(f'\\t\\t\\t{model.label}')\n",
    "\n",
    "    \n",
    "\n",
    "                    model.fit(X_train, y_train)\n",
    "                    preds = model.predict(X_test)\n",
    "\n",
    "             # Evaluate the model on the ground truth quantiles\n",
    "                    l2_results[trial, scenario, midx, nidx] = ((y_quantiles - preds)**2).mean(axis=0)\n",
    "\n",
    "                    l1_results[trial, scenario, midx, nidx] = (np.abs(y_quantiles - preds)).mean(axis=0)\n",
    "                    \n",
    "            print('\\t', l2_results[trial, scenario])\n",
    "            print('\\t', l1_results[trial, scenario])"
   ]
  },
  {
   "cell_type": "markdown",
   "metadata": {},
   "source": [
    "# Reweighted Estimator"
   ]
  },
  {
   "cell_type": "code",
   "execution_count": null,
   "metadata": {},
   "outputs": [],
   "source": [
    "alpha=3\n",
    "beta=4\n",
    "alpha_pr=2.5\n",
    "beta_pr=1.5\n",
    "n_tr=1000\n",
    "n_te=1000\n",
    "\n",
    "for trial in range(N_trials):\n",
    "        print(f'Trial {trial+1}')\n",
    "        for scenario, func in enumerate(functions):\n",
    "            print(f'\\tScenario {scenario+1}')\n",
    "           \n",
    "            # Sample test set covariates and response\n",
    "            X_test = np.random.uniform(0,1,size=(N_test,3))\n",
    "            X_test[:,0] = np.random.beta(alpha,beta,N_test)\n",
    "            y_test = func.sample(X_test)\n",
    "\n",
    "            # Get the ground truth quantiles\n",
    "            y_quantiles = np.array([func.quantile(X_test, q) for q in quantiles]).T\n",
    "\n",
    "            \n",
    "\n",
    "            for nidx, N_train in enumerate(sample_sizes):\n",
    "                print(f'\\t\\tN={N_train}')\n",
    "                # Sample training covariates and response\n",
    "                \n",
    "                X_train = np.random.uniform(0,1,size=(N_train,3))\n",
    "                X_train[:,0] = np.random.beta(alpha_pr,beta_pr,N_train)\n",
    "                y_train = func.sample(X_train)\n",
    "                \n",
    "                true_weight = st.beta(alpha,beta).pdf(X_train[:,0])/st.beta(alpha_pr,beta_pr).pdf(X_train[:,0]) \n",
    "              \n",
    "                X_tr=np.random.uniform(0,1,size=(n_tr,3))\n",
    "                X_tr[:,0]=np.random.beta(alpha_pr,beta_pr,n_tr)\n",
    "                X_te=np.random.uniform(0,1,size=(n_te,3))\n",
    "                X_te[:,0]=np.random.beta(alpha,beta,n_te) \n",
    "\n",
    "                for midx, model in enumerate([m() for m in models]):\n",
    "                    print(f'\\t\\t\\t{model.label}')\n",
    "\n",
    "    \n",
    "\n",
    "                    model.weighted_fit(X_train, y_train, X_tr, X_te, n_tr, true_weight, 0, 3)\n",
    "                    preds = model.predict(X_test)\n",
    "                    print(preds.shape)\n",
    "\n",
    "                    # Evaluate the model on the ground truth quantiles\n",
    "                    l2_results[trial, scenario, midx, nidx] = ((y_quantiles - preds)**2).mean(axis=0)\n",
    "\n",
    "                    l1_results[trial, scenario, midx, nidx] = (np.abs(y_quantiles - preds)).mean(axis=0)\n",
    "                    \n",
    "            print('\\t', l2_results[trial, scenario])\n",
    "            print('\\t', l1_results[trial, scenario])"
   ]
  },
  {
   "cell_type": "markdown",
   "metadata": {},
   "source": [
    "# Pre-trained Estimator"
   ]
  },
  {
   "cell_type": "code",
   "execution_count": null,
   "metadata": {},
   "outputs": [],
   "source": [
    "for trial in range(N_trials):\n",
    "        print(f'Trial {trial+1}')\n",
    "        for scenario, func in enumerate(functions):\n",
    "            print(f'\\tScenario {scenario+1}')\n",
    "           \n",
    "            # Sample test set covariates and response\n",
    "            X_test = np.random.uniform(0,1,size=(N_test,3))\n",
    "            X_test[:,0] = np.random.beta(alpha,beta,N_test)\n",
    "            y_test = func.sample(X_test)\n",
    "\n",
    "            # Get the ground truth quantiles\n",
    "            y_quantiles = np.array([func.quantile(X_test, q) for q in quantiles]).T\n",
    "\n",
    "            risk = np.full((N_test, n_tau), np.nan) \n",
    "            \n",
    "\n",
    "            for nidx, N_train in enumerate(sample_sizes):\n",
    "                print(f'\\t\\tN={N_train}')\n",
    "                # Sample training covariates and response\n",
    "                \n",
    "                X_train = np.random.uniform(0,1,size=(N_train,3))\n",
    "                X_train[:,0] = np.random.beta(alpha_pr,beta_pr,N_train)\n",
    "                y_train = func.sample(X_train)\n",
    "                \n",
    "                true_weight = st.beta(alpha,beta).pdf(X_train[:,0])/st.beta(alpha_pr,beta_pr).pdf(X_train[:,0]) \n",
    "              \n",
    "                X_tr=np.random.uniform(0,1,size=(n_tr,3))\n",
    "                X_tr[:,0]=np.random.beta(alpha_pr,beta_pr,n_tr)\n",
    "                X_te=np.random.uniform(0,1,size=(n_te,3))\n",
    "                X_te[:,0]=np.random.beta(alpha,beta,n_te)  \n",
    "\n",
    "                for midx, model in enumerate([m() for m in models]):\n",
    "                    print(f'\\t\\t\\t{model.label}')\n",
    "\n",
    "    \n",
    "\n",
    "                    model.weighted_fit(X_train, y_train, X_tr, X_te, n_tr, true_weight, 1, 3)\n",
    "                    preds = model.predict(X_test)\n",
    "                    print(preds.shape)\n",
    "\n",
    "                    # Evaluate the model on the ground truth quantiles\n",
    "                    l2_results[trial, scenario, midx, nidx] = ((y_quantiles - preds)**2).mean(axis=0)\n",
    "\n",
    "                    l1_results[trial, scenario, midx, nidx] = (np.abs(y_quantiles - preds)).mean(axis=0)\n",
    "                    \n",
    "            print('\\t', l2_results[trial, scenario])\n",
    "            print('\\t', l1_results[trial, scenario])"
   ]
  }
 ],
 "metadata": {
  "kernelspec": {
   "display_name": "Python 3.10.7 64-bit (microsoft store)",
   "language": "python",
   "name": "python3"
  },
  "language_info": {
   "codemirror_mode": {
    "name": "ipython",
    "version": 3
   },
   "file_extension": ".py",
   "mimetype": "text/x-python",
   "name": "python",
   "nbconvert_exporter": "python",
   "pygments_lexer": "ipython3",
   "version": "3.7.11"
  },
  "orig_nbformat": 4,
  "vscode": {
   "interpreter": {
    "hash": "faa1c5e7304e37e291307c8ca76f8520a0b6edf821469faa6538266799dd2c53"
   }
  }
 },
 "nbformat": 4,
 "nbformat_minor": 2
}
