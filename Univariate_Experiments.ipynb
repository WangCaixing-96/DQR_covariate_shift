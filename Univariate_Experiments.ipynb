{
 "cells": [
  {
   "cell_type": "code",
   "execution_count": null,
   "metadata": {},
   "outputs": [],
   "source": [
    "import numpy as np\n",
    "import os\n",
    "import yaml\n",
    "import torch\n",
    "from scipy import stats as st\n",
    "from scipy.stats import t as t_dist, norm, cauchy, laplace\n",
    "from funcs import Scenario1\n",
    "from neural_model import QuantileNetwork\n"
   ]
  },
  {
   "cell_type": "code",
   "execution_count": null,
   "metadata": {},
   "outputs": [],
   "source": [
    "def load_config(path):\n",
    "    return yaml.load(open(path, 'r'), Loader=yaml.SafeLoader)\n",
    "\n",
    "config = load_config(\"/Users/cxxxx_/Desktop/DeepQuantile_covariate_shift/config.yaml\")\n"
   ]
  },
  {
   "cell_type": "code",
   "execution_count": null,
   "metadata": {},
   "outputs": [],
   "source": [
    "N_trials = 10\n",
    "N_test = 10000\n",
    "sample_sizes = [512,2048]\n",
    "quantiles = np.array([0.05, 0.25, 0.5, 0.75, 0.95])\n",
    "n_tau = 5\n",
    "functions = [Scenario1()]\n",
    "models = [lambda: QuantileNetwork(quantiles=quantiles, config=config)]\n",
    "\n",
    "    # Track the performance results\n",
    "l2_results = np.full((N_trials, len(functions), len(models), len(sample_sizes), len(quantiles)), np.nan)\n",
    "l1_results = np.full((N_trials, len(functions), len(models), len(sample_sizes), len(quantiles)), np.nan)\n"
   ]
  },
  {
   "cell_type": "code",
   "execution_count": null,
   "metadata": {},
   "outputs": [],
   "source": [
    "mu_1=0 #the mean of source\n",
    "mu_2=0.5 #the mean of target\n",
    "sigma_1_sq= 0.4 #the variance of source\n",
    "sigma_2_sq= 0.3   #the variance of target\n",
    "n_tr=1000\n",
    "n_te=1000\n",
    "X_tr=np.random.normal(mu_1,np.sqrt(sigma_1_sq),n_tr)\n",
    "X_te=np.random.normal(mu_2,np.sqrt(sigma_2_sq),n_tr)"
   ]
  },
  {
   "cell_type": "markdown",
   "metadata": {},
   "source": [
    "# Unweighted Estimator"
   ]
  },
  {
   "cell_type": "code",
   "execution_count": null,
   "metadata": {},
   "outputs": [],
   "source": [
    "for trial in range(N_trials):\n",
    "        print(f'Trial {trial+1}')\n",
    "        for scenario, func in enumerate(functions):\n",
    "            print(f'\\tScenario {scenario+1}')\n",
    "            \n",
    "          \n",
    "            X_test = np.random.normal(mu_2,np.sqrt(sigma_2_sq),size=(N_test,func.n_in))\n",
    "            y_test = func.sample(X_test)\n",
    "\n",
    "            # Get the ground truth quantiles\n",
    "            y_quantiles = np.array([func.quantile(X_test, q) for q in quantiles]).T\n",
    "\n",
    "            risk = np.full((N_test, n_tau), np.nan) \n",
    "            \n",
    "\n",
    "            for nidx, N_train in enumerate(sample_sizes):\n",
    "                print(f'\\t\\tN={N_train}')\n",
    "\n",
    "                \n",
    "                X_train = np.random.normal(mu_1,np.sqrt(sigma_1_sq),size=(N_train,func.n_in))\n",
    "                y_train = func.sample(X_train)\n",
    "\n",
    "\n",
    "                for midx, model in enumerate([m() for m in models]):\n",
    "                    print(f'\\t\\t\\t{model.label}')\n",
    "\n",
    "    \n",
    "\n",
    "                    model.fit(X_train, y_train)\n",
    "                    preds = model.predict(X_test)\n",
    "\n",
    "                    # Evaluate the model on the ground truth quantiles\n",
    "                    l2_results[trial, scenario, midx, nidx] = ((y_quantiles - preds)**2).mean(axis=0)\n",
    "\n",
    "                    l1_results[trial, scenario, midx, nidx] = (np.abs(y_quantiles - preds)).mean(axis=0)\n",
    "                    \n",
    "            print('\\t', l2_results[trial, scenario])\n",
    "            print('\\t', l1_results[trial, scenario])"
   ]
  },
  {
   "cell_type": "markdown",
   "metadata": {},
   "source": [
    "# Reweighted Estimator"
   ]
  },
  {
   "cell_type": "code",
   "execution_count": null,
   "metadata": {},
   "outputs": [],
   "source": [
    "for trial in range(N_trials):\n",
    "        print(f'Trial {trial+1}')\n",
    "        for scenario, func in enumerate(functions):\n",
    "            print(f'\\tScenario {scenario+1}')\n",
    "           \n",
    "            # Sample test set covariates and response\n",
    "            X_test = np.random.normal(mu_2,np.sqrt(sigma_2_sq),size=(N_test,func.n_in))\n",
    "            y_test = func.sample(X_test)\n",
    "\n",
    "            # Get the ground truth quantiles\n",
    "            y_quantiles = np.array([func.quantile(X_test, q) for q in quantiles]).T\n",
    "            \n",
    "\n",
    "            for nidx, N_train in enumerate(sample_sizes):\n",
    "                print(f'\\t\\tN={N_train}')\n",
    "                # Sample training covariates and response\n",
    "                \n",
    "                X_train = np.random.normal(mu_1,np.sqrt(sigma_1_sq),size=(N_train,func.n_in))\n",
    "                y_train = func.sample(X_train)\n",
    "                \n",
    "                true_weight = st.multivariate_normal.pdf(X_train,mu_2,sigma_2_sq)/st.multivariate_normal.pdf(X_train,mu_1,sigma_1_sq) \n",
    "              \n",
    "                X_tr=np.random.normal(mu_1,np.sqrt(sigma_1_sq),n_tr)\n",
    "                X_te=np.random.normal(mu_2,np.sqrt(sigma_2_sq),n_tr)   \n",
    "\n",
    "                for midx, model in enumerate([m() for m in models]):\n",
    "                    print(f'\\t\\t\\t{model.label}')\n",
    "\n",
    "    \n",
    "\n",
    "                    model.weighted_fit(X_train, y_train, X_tr, X_te, n_tr, true_weight, 0, 1)\n",
    "                    preds = model.predict(X_test)\n",
    "\n",
    "                 # Evaluate the model on the ground truth quantiles\n",
    "                    l2_results[trial, scenario, midx, nidx] = ((y_quantiles - preds)**2).mean(axis=0)\n",
    "\n",
    "                    l1_results[trial, scenario, midx, nidx] = (np.abs(y_quantiles - preds)).mean(axis=0)\n",
    "                    \n",
    "            print('\\t', l2_results[trial, scenario])\n",
    "            print('\\t', l1_results[trial, scenario])"
   ]
  },
  {
   "cell_type": "markdown",
   "metadata": {},
   "source": [
    "# Pre-trained Estimator"
   ]
  },
  {
   "cell_type": "code",
   "execution_count": null,
   "metadata": {},
   "outputs": [],
   "source": [
    "for trial in range(N_trials):\n",
    "        print(f'Trial {trial+1}')\n",
    "        for scenario, func in enumerate(functions):\n",
    "            print(f'\\tScenario {scenario+1}')\n",
    "            \n",
    "\n",
    "            # Sample test set covariates and response\n",
    "            X_test = np.random.normal(mu_2,np.sqrt(sigma_2_sq),size=(N_test,func.n_in))\n",
    "            y_test = func.sample(X_test)\n",
    "\n",
    "            # Get the ground truth quantiles\n",
    "            y_quantiles = np.array([func.quantile(X_test, q) for q in quantiles]).T\n",
    "\n",
    "\n",
    "\n",
    "            for nidx, N_train in enumerate(sample_sizes):\n",
    "                print(f'\\t\\tN={N_train}')\n",
    "               \n",
    "                # Sample training covariates and response\n",
    "                \n",
    "                X_train = np.random.normal(mu_1,np.sqrt(sigma_1_sq),size=(N_train,func.n_in))\n",
    "                y_train = func.sample(X_train)\n",
    "                \n",
    "                true_weight = st.multivariate_normal.pdf(X_train,mu_2,sigma_2_sq)/st.multivariate_normal.pdf(X_train,mu_1,sigma_1_sq) \n",
    "              \n",
    "                X_tr=np.random.normal(mu_1,np.sqrt(sigma_1_sq),n_tr).reshape(n_tr,1)\n",
    "                X_te=np.random.normal(mu_2,np.sqrt(sigma_2_sq),n_tr).reshape(n_tr,1)\n",
    "\n",
    "                for midx, model in enumerate([m() for m in models]):\n",
    "                    print(f'\\t\\t\\t{model.label}')\n",
    "\n",
    "    \n",
    "\n",
    "                    model.weighted_fit(X_train, y_train, X_tr, X_te, n_tr, true_weight, 1, 1)\n",
    "                    preds = model.predict(X_test)\n",
    "\n",
    "                      # Evaluate the model on the ground truth quantiles\n",
    "                    l2_results[trial, scenario, midx, nidx] = ((y_quantiles - preds)**2).mean(axis=0)\n",
    "\n",
    "                    l1_results[trial, scenario, midx, nidx] = (np.abs(y_quantiles - preds)).mean(axis=0)\n",
    "                    \n",
    "            print('\\t', l2_results[trial, scenario])\n",
    "            print('\\t', l1_results[trial, scenario])"
   ]
  }
 ],
 "metadata": {
  "kernelspec": {
   "display_name": "Python 3.10.7 64-bit (microsoft store)",
   "language": "python",
   "name": "python3"
  },
  "language_info": {
   "codemirror_mode": {
    "name": "ipython",
    "version": 3
   },
   "file_extension": ".py",
   "mimetype": "text/x-python",
   "name": "python",
   "nbconvert_exporter": "python",
   "pygments_lexer": "ipython3",
   "version": "3.7.11"
  },
  "orig_nbformat": 4,
  "vscode": {
   "interpreter": {
    "hash": "faa1c5e7304e37e291307c8ca76f8520a0b6edf821469faa6538266799dd2c53"
   }
  }
 },
 "nbformat": 4,
 "nbformat_minor": 2
}
